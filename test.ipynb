{
 "cells": [
  {
   "cell_type": "code",
   "execution_count": 5,
   "metadata": {},
   "outputs": [],
   "source": [
    "import numpy as np\n",
    "import pandas as pd\n",
    "import scanpy as sc\n",
    "from scipy.spatial.distance import cdist"
   ]
  },
  {
   "cell_type": "code",
   "execution_count": 6,
   "metadata": {},
   "outputs": [],
   "source": [
    "def read_spatial_expression(file,sep='\\s+',\n",
    "                            num_exp_genes=0.01, num_exp_spots=0.01, min_expression=1,\n",
    "                            drop = False):\n",
    "    \n",
    "    '''\n",
    "    Read raw data and returns pandas data frame of spatial gene express\n",
    "    and numpy ndarray for single cell location coordinates; \n",
    "    Meanwhile processing raw data.\n",
    "    \n",
    "    :param file: csv file for spatial gene expression; \n",
    "    :rtype: coord (spatial coordinates) shape (n, 2); data: shape (n, m); \n",
    "    '''\n",
    "    counts = pd.read_csv(file, sep=sep, index_col = 0)\n",
    "    print('raw data dim: {}'.format(counts.shape))\n",
    "\n",
    "    num_spots = len(counts.index)\n",
    "    num_genes = len(counts.columns)\n",
    "    min_genes_spot_exp = round((counts != 0).sum(axis=1).quantile(num_exp_genes))\n",
    "    print(\"Number of expressed genes a spot must have to be kept \" \\\n",
    "    \"({}% of total expressed genes) {}\".format(num_exp_genes, min_genes_spot_exp))\n",
    "    \n",
    "    mark_points = np.where((counts != 0).sum(axis=1) < min_genes_spot_exp)[0]\n",
    "    print(\"Marked {} spots\".format(len(mark_points)))\n",
    "    \n",
    "    if len(mark_points)>0:\n",
    "        noiseInd = [counts.shape[0]-1-i for i in range(len(mark_points))]\n",
    "        if drop == False:\n",
    "            temp = [val.split('x') for val in counts.index.values]\n",
    "            coord = np.array([[float(a[0]), float(a[1])] for a in temp])\n",
    "\n",
    "            similar_points=np.argsort(cdist(coord[mark_points,:],coord),axis=1)[:,1]\n",
    "            for i,j in zip(mark_points,similar_points):\n",
    "                counts.iloc[i,:]=counts.iloc[j,:]\n",
    "        \n",
    "            mark_counts=counts.iloc[mark_points,:]\n",
    "            dropped_counts = counts.drop(counts.index[mark_points])\n",
    "            counts=pd.concat([dropped_counts,mark_counts])  \n",
    "            \n",
    "        else:    \n",
    "            counts = counts[(counts != 0).sum(axis=1) >= min_genes_spot_exp]\n",
    "    else:\n",
    "        counts = counts\n",
    "        noiseInd =[] \n",
    "    \n",
    "    # Spots are columns and genes are rows\n",
    "    counts = counts.transpose()\n",
    "    # Remove noisy genes\n",
    "    min_features_gene = round(len(counts.columns) * num_exp_spots) \n",
    "    print(\"Removing genes that are expressed in less than {} \" \\\n",
    "    \"spots with a count of at least {}\".format(min_features_gene, min_expression))\n",
    "    counts = counts[(counts >= min_expression).sum(axis=1) >= min_features_gene]\n",
    "    print(\"Dropped {} genes\".format(num_genes - len(counts.index)))\n",
    "    \n",
    "    temp = [val.split('x') for val in counts.columns.values]\n",
    "    coord = np.array([[float(a[0]), float(a[1])] for a in temp])\n",
    "\n",
    "    data=counts.transpose()\n",
    "\n",
    "    return coord,data, noiseInd"
   ]
  },
  {
   "cell_type": "code",
   "execution_count": 7,
   "metadata": {},
   "outputs": [
    {
     "name": "stdout",
     "output_type": "stream",
     "text": [
      "raw data dim: (262, 16218)\n",
      "Number of expressed genes a spot must have to be kept (0.01% of total expressed genes) 3375\n",
      "Marked 3 spots\n",
      "Removing genes that are expressed in less than 3 spots with a count of at least 1\n",
      "Dropped 1559 genes\n"
     ]
    }
   ],
   "source": [
    "data_dir = '../dataset/MOB-breast_cancer/Rep11_MOB_count_matrix-1.tsv'\n",
    "locs,data,_=read_spatial_expression(data_dir)\n",
    "locs_df = pd.DataFrame(locs,columns=['imagerow', 'imagecol'])\n",
    "locs_df.index = data.index\n",
    "adata = sc.AnnData(X=data,\n",
    "                        obs=locs_df)"
   ]
  },
  {
   "cell_type": "code",
   "execution_count": 10,
   "metadata": {},
   "outputs": [
    {
     "data": {
      "text/plain": [
       "AnnData object with n_obs × n_vars = 262 × 14659\n",
       "    obs: 'imagerow', 'imagecol'"
      ]
     },
     "execution_count": 10,
     "metadata": {},
     "output_type": "execute_result"
    }
   ],
   "source": [
    "adata"
   ]
  },
  {
   "cell_type": "code",
   "execution_count": null,
   "metadata": {},
   "outputs": [],
   "source": []
  }
 ],
 "metadata": {
  "kernelspec": {
   "display_name": "sc",
   "language": "python",
   "name": "python3"
  },
  "language_info": {
   "codemirror_mode": {
    "name": "ipython",
    "version": 3
   },
   "file_extension": ".py",
   "mimetype": "text/x-python",
   "name": "python",
   "nbconvert_exporter": "python",
   "pygments_lexer": "ipython3",
   "version": "3.11.5"
  }
 },
 "nbformat": 4,
 "nbformat_minor": 2
}

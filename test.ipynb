{
 "cells": [
  {
   "cell_type": "code",
   "execution_count": null,
   "metadata": {},
   "outputs": [
    {
     "ename": "",
     "evalue": "",
     "output_type": "error",
     "traceback": [
      "\u001b[1;31mFailed to start the Kernel. \n",
      "\u001b[1;31mUnable to start Kernel 'sc (Python 3.11.5)' due to a timeout waiting for the ports to get used. \n",
      "\u001b[1;31mView Jupyter <a href='command:jupyter.viewOutput'>log</a> for further details."
     ]
    }
   ],
   "source": [
    "import numpy as np\n",
    "import pandas as pd\n",
    "import scanpy as sc\n",
    "import importlib\n",
    "from scipy.spatial.distance import cdist\n",
    "from src.Graph import GeneGraph \n",
    "from src import function "
   ]
  },
  {
   "cell_type": "code",
   "execution_count": null,
   "metadata": {},
   "outputs": [],
   "source": [
    "def read_spatial_expression(file,sep='\\s+',\n",
    "                            num_exp_genes=0.01, num_exp_spots=0.01, min_expression=1,\n",
    "                            drop = False):\n",
    "    \n",
    "    '''\n",
    "    Read raw data and returns pandas data frame of spatial gene express\n",
    "    and numpy ndarray for single cell location coordinates; \n",
    "    Meanwhile processing raw data.\n",
    "    \n",
    "    :param file: csv file for spatial gene expression; \n",
    "    :rtype: coord (spatial coordinates) shape (n, 2); data: shape (n, m); \n",
    "    '''\n",
    "    counts = pd.read_csv(file, sep=sep, index_col = 0)\n",
    "    print('raw data dim: {}'.format(counts.shape))\n",
    "\n",
    "    num_spots = len(counts.index)\n",
    "    num_genes = len(counts.columns)\n",
    "    min_genes_spot_exp = round((counts != 0).sum(axis=1).quantile(num_exp_genes))\n",
    "    print(\"Number of expressed genes a spot must have to be kept \" \\\n",
    "    \"({}% of total expressed genes) {}\".format(num_exp_genes, min_genes_spot_exp))\n",
    "    \n",
    "    mark_points = np.where((counts != 0).sum(axis=1) < min_genes_spot_exp)[0]\n",
    "    print(\"Marked {} spots\".format(len(mark_points)))\n",
    "    \n",
    "    if len(mark_points)>0:\n",
    "        noiseInd = [counts.shape[0]-1-i for i in range(len(mark_points))]\n",
    "        if drop == False:\n",
    "            temp = [val.split('x') for val in counts.index.values]\n",
    "            coord = np.array([[float(a[0]), float(a[1])] for a in temp])\n",
    "\n",
    "            similar_points=np.argsort(cdist(coord[mark_points,:],coord),axis=1)[:,1]\n",
    "            for i,j in zip(mark_points,similar_points):\n",
    "                counts.iloc[i,:]=counts.iloc[j,:]\n",
    "        \n",
    "            mark_counts=counts.iloc[mark_points,:]\n",
    "            dropped_counts = counts.drop(counts.index[mark_points])\n",
    "            counts=pd.concat([dropped_counts,mark_counts])  \n",
    "            \n",
    "        else:    \n",
    "            counts = counts[(counts != 0).sum(axis=1) >= min_genes_spot_exp]\n",
    "    else:\n",
    "        counts = counts\n",
    "        noiseInd =[] \n",
    "    \n",
    "    # Spots are columns and genes are rows\n",
    "    counts = counts.transpose()\n",
    "    # Remove noisy genes\n",
    "    min_features_gene = round(len(counts.columns) * num_exp_spots) \n",
    "    print(\"Removing genes that are expressed in less than {} \" \\\n",
    "    \"spots with a count of at least {}\".format(min_features_gene, min_expression))\n",
    "    counts = counts[(counts >= min_expression).sum(axis=1) >= min_features_gene]\n",
    "    print(\"Dropped {} genes\".format(num_genes - len(counts.index)))\n",
    "    \n",
    "    temp = [val.split('x') for val in counts.columns.values]\n",
    "    coord = np.array([[float(a[0]), float(a[1])] for a in temp])\n",
    "\n",
    "    data=counts.transpose()\n",
    "\n",
    "    return coord,data, noiseInd"
   ]
  },
  {
   "cell_type": "code",
   "execution_count": null,
   "metadata": {},
   "outputs": [],
   "source": [
    "data_dir = '../dataset/MOB-breast_cancer/Rep11_MOB_count_matrix-1.tsv'\n",
    "locs,data,_=read_spatial_expression(data_dir)\n",
    "locs_df = pd.DataFrame(locs,columns=['imagerow', 'imagecol'])\n",
    "locs_df.index = data.index\n",
    "adata = sc.AnnData(X=data,\n",
    "                        obs=locs_df)"
   ]
  },
  {
   "cell_type": "code",
   "execution_count": null,
   "metadata": {},
   "outputs": [],
   "source": [
    "# Suppose new_index is your new index\n",
    "new_index = [\"array_row\", \"array_col\"]\n",
    "adata.obs.rename(columns={\"imagerow\": new_index[0], \"imagecol\": new_index[1]}, inplace=True)"
   ]
  },
  {
   "cell_type": "code",
   "execution_count": null,
   "metadata": {},
   "outputs": [],
   "source": [
    "target_gene = 'Myo5a'\n",
    "exp = adata[:,target_gene].X.toarray()"
   ]
  },
  {
   "cell_type": "code",
   "execution_count": null,
   "metadata": {},
   "outputs": [],
   "source": [
    "label_list = mrf.mrf_with_icmem(adata, target_gene, beta = 5, max_iter = 50, radius = 1)"
   ]
  },
  {
   "cell_type": "code",
   "execution_count": null,
   "metadata": {},
   "outputs": [],
   "source": [
    "adata.obs[\"label\"] = label_list"
   ]
  },
  {
   "cell_type": "code",
   "execution_count": null,
   "metadata": {},
   "outputs": [],
   "source": [
    "sc.set_figure_params(facecolor=\"white\", figsize=(8, 8))\n",
    "ax=sc.pl.scatter(adata,alpha=1,x=\"array_row\",y=\"array_col\", color = \"label\",\n",
    "                 title=target_gene,show=False,size=500000/adata.shape[0],\n",
    "                color_map='bwr')\n",
    "ax.set_aspect('equal', 'box')\n",
    "ax.axes.invert_yaxis()"
   ]
  },
  {
   "cell_type": "code",
   "execution_count": null,
   "metadata": {},
   "outputs": [],
   "source": [
    "from sklearn.mixture import GaussianMixture\n",
    "from sklearn.cluster import KMeans"
   ]
  },
  {
   "cell_type": "code",
   "execution_count": null,
   "metadata": {},
   "outputs": [],
   "source": [
    "gmm = GaussianMixture(n_components=2).fit(exp)\n",
    "gpred = gmm.predict(exp)\n",
    "adata.obs[\"gmm\"] = gpred\n",
    "kmeans = KMeans(n_clusters=2).fit(exp)\n",
    "kpred = kmeans.predict(exp)\n",
    "adata.obs[\"kmeans\"] = kpred"
   ]
  },
  {
   "cell_type": "code",
   "execution_count": null,
   "metadata": {},
   "outputs": [],
   "source": [
    "sc.set_figure_params(facecolor=\"white\", figsize=(8, 8))\n",
    "ax=sc.pl.scatter(adata,alpha=1,x=\"array_row\",y=\"array_col\", color ='gmm',\n",
    "                 title=target_gene,show=False,size=500000/adata.shape[0],\n",
    "                color_map='bwr')\n",
    "ax.set_aspect('equal', 'box')\n",
    "ax.axes.invert_yaxis()"
   ]
  },
  {
   "cell_type": "code",
   "execution_count": null,
   "metadata": {},
   "outputs": [],
   "source": [
    "adata"
   ]
  },
  {
   "cell_type": "code",
   "execution_count": null,
   "metadata": {},
   "outputs": [],
   "source": []
  }
 ],
 "metadata": {
  "kernelspec": {
   "display_name": "sc",
   "language": "python",
   "name": "python3"
  },
  "language_info": {
   "codemirror_mode": {
    "name": "ipython",
    "version": 3
   },
   "file_extension": ".py",
   "mimetype": "text/x-python",
   "name": "python",
   "nbconvert_exporter": "python",
   "pygments_lexer": "ipython3",
   "version": "3.11.5"
  }
 },
 "nbformat": 4,
 "nbformat_minor": 2
}

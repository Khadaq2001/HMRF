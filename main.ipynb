{
 "cells": [
  {
   "cell_type": "code",
   "execution_count": 1,
   "metadata": {},
   "outputs": [],
   "source": [
    "import numpy as np\n",
    "import pandas as pd\n",
    "import scanpy as sc\n",
    "from src.Graph import SingleGeneGraph\n",
    "from src.Function import read_spatial_expression\n",
    "from src import Preprocess\n",
    "from tqdm import tqdm\n",
    "%matplotlib inline"
   ]
  },
  {
   "cell_type": "code",
   "execution_count": 2,
   "metadata": {},
   "outputs": [],
   "source": [
    "def spatial_plot(adata, color, map = 'bwr'):\n",
    "    sc.set_figure_params(facecolor=\"white\", figsize=(8, 8))\n",
    "    ax=sc.pl.scatter(adata,alpha=1,x=\"array_row\",y=\"array_col\", color = color, \n",
    "                 title=color,show=False,size=500000/adata.shape[0],\n",
    "                 color_map=map,frameon=False)\n",
    "    ax.set_aspect('equal', 'box')\n",
    "    # ax.axes.invert_yaxis()"
   ]
  },
  {
   "cell_type": "code",
   "execution_count": 3,
   "metadata": {},
   "outputs": [
    {
     "name": "stdout",
     "output_type": "stream",
     "text": [
      "raw data dim: (262, 16218)\n",
      "Number of expressed genes a spot must have to be kept (0.01% of total expressed genes) 3375\n",
      "Marked 3 spots\n",
      "Removing genes that are expressed in less than 3 spots with a count of at least 1\n",
      "Dropped 1559 genes\n"
     ]
    }
   ],
   "source": [
    "kneighbors, beta = 4,2\n",
    "dataDir = \"../dataset/MOB-breast_cancer/Rep11_MOB_count_matrix-1.tsv\"\n",
    "locs, data, _ = read_spatial_expression(dataDir)\n",
    "locsDf = pd.DataFrame(locs, columns=[\"imagerow\", \"imagecol\"])\n",
    "locsDf.index = data.index\n",
    "adata = sc.AnnData(X=data, obs=locsDf)\n",
    "adata = Preprocess.data_preprocess(adata)\n",
    "new_index = [\"array_row\", \"array_col\"]\n",
    "adata.obs.rename(\n",
    "    columns={\"imagerow\": new_index[0], \"imagecol\": new_index[1]}, inplace=True\n",
    ")\n"
   ]
  },
  {
   "cell_type": "code",
   "execution_count": 4,
   "metadata": {},
   "outputs": [],
   "source": [
    "exp = adata.to_df()\n",
    "coord = adata.obs[['array_row', 'array_col']]\n",
    "gene_id = 'Myo5a'"
   ]
  },
  {
   "cell_type": "code",
   "execution_count": 5,
   "metadata": {},
   "outputs": [],
   "source": [
    "geneGraph = SingleGeneGraph(gene_id,exp, coord, kneighbors=kneighbors)"
   ]
  },
  {
   "cell_type": "code",
   "execution_count": 6,
   "metadata": {},
   "outputs": [
    {
     "name": "stderr",
     "output_type": "stream",
     "text": [
      " 10%|█         | 1/10 [00:00<00:01,  8.60it/s]"
     ]
    },
    {
     "name": "stdout",
     "output_type": "stream",
     "text": [
      "Convergence reached\n",
      "[[ 0.54259855  0.53660241]\n",
      " [-0.80407948  0.59440464]]\n"
     ]
    },
    {
     "name": "stderr",
     "output_type": "stream",
     "text": [
      "\n"
     ]
    },
    {
     "ename": "",
     "evalue": "",
     "output_type": "error",
     "traceback": [
      "\u001b[1;31mThe Kernel crashed while executing code in the the current cell or a previous cell. Please review the code in the cell(s) to identify a possible cause of the failure. Click <a href='https://aka.ms/vscodeJupyterKernelCrash'>here</a> for more info. View Jupyter <a href='command:jupyter.viewOutput'>log</a> for further details."
     ]
    }
   ],
   "source": [
    "geneGraph.mrf_with_icmem(beta = beta)"
   ]
  },
  {
   "cell_type": "code",
   "execution_count": 4,
   "metadata": {},
   "outputs": [
    {
     "data": {
      "text/plain": [
       "Index(['16.92x9.015', '16.945x11.075', '16.97x10.118', '16.939x12.132',\n",
       "       '16.949x13.055', '16.942x15.088', '16.941x17.065', '16.919x16.055',\n",
       "       '9.862x9.024', '12.08x9.115',\n",
       "       ...\n",
       "       '20.089x24.006', '24.146x24.011', '23.124x24.046', '21.01x23.944',\n",
       "       '22.053x23.962', '27.018x20.088', '17.964x10.137', '10.922x17.038',\n",
       "       '18.006x20.069', '26.991x13.041'],\n",
       "      dtype='object', length=262)"
      ]
     },
     "execution_count": 4,
     "metadata": {},
     "output_type": "execute_result"
    }
   ],
   "source": [
    "adata.obs.index"
   ]
  },
  {
   "cell_type": "code",
   "execution_count": 5,
   "metadata": {},
   "outputs": [
    {
     "data": {
      "text/plain": [
       "Index(['16.92x9.015', '16.945x11.075', '16.97x10.118', '16.939x12.132',\n",
       "       '16.949x13.055', '16.942x15.088', '16.941x17.065', '16.919x16.055',\n",
       "       '9.862x9.024', '12.08x9.115',\n",
       "       ...\n",
       "       '20.089x24.006', '24.146x24.011', '23.124x24.046', '21.01x23.944',\n",
       "       '22.053x23.962', '27.018x20.088', '17.964x10.137', '10.922x17.038',\n",
       "       '18.006x20.069', '26.991x13.041'],\n",
       "      dtype='object', length=262)"
      ]
     },
     "execution_count": 5,
     "metadata": {},
     "output_type": "execute_result"
    }
   ],
   "source": [
    "exp = adata.to_df()\n",
    "exp.index"
   ]
  },
  {
   "cell_type": "code",
   "execution_count": 6,
   "metadata": {},
   "outputs": [
    {
     "data": {
      "text/plain": [
       "Index(['Nrf1', 'Zbtb5', 'Ccnl1', 'Lrrfip1', 'Bbs1', 'Lix1', 'Whrn', 'Ate1',\n",
       "       'Ubac1', 'Rab34',\n",
       "       ...\n",
       "       'Gm15910', 'Zc3h12a', 'Zcwpw1', '1700020D05Rik', '4930471G03Rik',\n",
       "       '9030204H09Rik', 'Rn4.5s', 'Hist1h2ak', '4930562F07Rik', 'Gm20172'],\n",
       "      dtype='object', length=14659)"
      ]
     },
     "execution_count": 6,
     "metadata": {},
     "output_type": "execute_result"
    }
   ],
   "source": [
    "exp "
   ]
  },
  {
   "cell_type": "code",
   "execution_count": 3,
   "metadata": {},
   "outputs": [],
   "source": [
    "exp = pd.read_csv(\"input/gsExp.csv\")"
   ]
  },
  {
   "cell_type": "code",
   "execution_count": 5,
   "metadata": {},
   "outputs": [
    {
     "data": {
      "text/plain": [
       "Index(['AL645608.1', 'SAMD11', 'ISG15', 'TNFRSF18', 'SDF4', 'MXRA8', 'CCNL2',\n",
       "       'VWA1', 'ATAD3B', 'FAAP20',\n",
       "       ...\n",
       "       'AP001468.1', 'LSS', 'MCM3AP-AS1', 'S100B', 'MT-ND1', 'MT-ND2',\n",
       "       'MT-CO1', 'MT-ATP8', 'MT-ND3', 'MT-CYB'],\n",
       "      dtype='object', length=3000)"
      ]
     },
     "execution_count": 5,
     "metadata": {},
     "output_type": "execute_result"
    }
   ],
   "source": [
    "exp.columns[1:]"
   ]
  },
  {
   "cell_type": "code",
   "execution_count": 7,
   "metadata": {},
   "outputs": [
    {
     "data": {
      "text/plain": [
       "array([nan, nan, nan, ..., nan, nan, nan])"
      ]
     },
     "execution_count": 7,
     "metadata": {},
     "output_type": "execute_result"
    }
   ],
   "source": [
    "coord = np.genfromtxt(\"input/gsCoord.csv\")"
   ]
  },
  {
   "cell_type": "code",
   "execution_count": 8,
   "metadata": {},
   "outputs": [
    {
     "name": "stderr",
     "output_type": "stream",
     "text": [
      "/home/qinxianhan/.conda/envs/sc/lib/python3.11/site-packages/anndata/_core/anndata.py:1899: UserWarning: Variable names are not unique. To make them unique, call `.var_names_make_unique`.\n",
      "  utils.warn_names_duplicates(\"var\")\n",
      "/home/qinxianhan/.conda/envs/sc/lib/python3.11/site-packages/anndata/_core/anndata.py:1899: UserWarning: Variable names are not unique. To make them unique, call `.var_names_make_unique`.\n",
      "  utils.warn_names_duplicates(\"var\")\n"
     ]
    }
   ],
   "source": [
    "adata = sc.read_visium(\"../dataset/goldStandard\")"
   ]
  },
  {
   "cell_type": "code",
   "execution_count": 10,
   "metadata": {},
   "outputs": [],
   "source": [
    "coord = adata.obsm[\"spatial\"]"
   ]
  },
  {
   "cell_type": "code",
   "execution_count": 12,
   "metadata": {},
   "outputs": [],
   "source": [
    "np.savetxt(\"input/gsCoord.csv\", coord, delimiter=\",\", fmt=\"%d\")"
   ]
  },
  {
   "cell_type": "code",
   "execution_count": 3,
   "metadata": {},
   "outputs": [
    {
     "data": {
      "text/plain": [
       "'AC012360.3'"
      ]
     },
     "execution_count": 3,
     "metadata": {},
     "output_type": "execute_result"
    }
   ],
   "source": [
    "gene_id = exp.columns[1]\n",
    "kneighbors = 4\n",
    "gene_id"
   ]
  },
  {
   "cell_type": "code",
   "execution_count": 9,
   "metadata": {},
   "outputs": [],
   "source": [
    "exp = pd.read_csv(\"input/gsExp.csv\", index_col=0)\n",
    "coord = np.genfromtxt(\"input/gsCoord.csv\", delimiter=\",\")\n",
    "geneGraph = SingleGeneGraph(gene_id,exp, coord, kneighbors=kneighbors)"
   ]
  },
  {
   "cell_type": "code",
   "execution_count": 5,
   "metadata": {},
   "outputs": [
    {
     "name": "stderr",
     "output_type": "stream",
     "text": [
      "  0%|          | 0/10 [00:00<?, ?it/s]\n"
     ]
    },
    {
     "ename": "IndexError",
     "evalue": "index 3636 is out of bounds for axis 0 with size 3636",
     "output_type": "error",
     "traceback": [
      "\u001b[0;31m---------------------------------------------------------------------------\u001b[0m",
      "\u001b[0;31mIndexError\u001b[0m                                Traceback (most recent call last)",
      "Cell \u001b[0;32mIn[5], line 1\u001b[0m\n\u001b[0;32m----> 1\u001b[0m geneGraph\u001b[38;5;241m.\u001b[39mmrf_with_icmem(beta \u001b[38;5;241m=\u001b[39m \u001b[38;5;241m2\u001b[39m)\n",
      "File \u001b[0;32m~/project/spatial/Hidden_Markov_Random_Field/src/Graph.py:42\u001b[0m, in \u001b[0;36mSingleGeneGraph.mrf_with_icmem\u001b[0;34m(self, beta, n_components, icm_iter, max_iter)\u001b[0m\n\u001b[1;32m     40\u001b[0m \u001b[38;5;28mcls\u001b[39m \u001b[38;5;241m=\u001b[39m \u001b[38;5;28mrange\u001b[39m(n_components)\n\u001b[1;32m     41\u001b[0m clsPara \u001b[38;5;241m=\u001b[39m np\u001b[38;5;241m.\u001b[39mcolumn_stack((means, covs))\n\u001b[0;32m---> 42\u001b[0m labelList \u001b[38;5;241m=\u001b[39m \u001b[38;5;28mself\u001b[39m\u001b[38;5;241m.\u001b[39m_icmem(\n\u001b[1;32m     43\u001b[0m     pred, beta, \u001b[38;5;28mcls\u001b[39m, clsPara, \u001b[38;5;28mself\u001b[39m\u001b[38;5;241m.\u001b[39mexp, \u001b[38;5;28mself\u001b[39m\u001b[38;5;241m.\u001b[39mgraph, icm_iter, max_iter\n\u001b[1;32m     44\u001b[0m )\n\u001b[1;32m     45\u001b[0m \u001b[38;5;28;01mif\u001b[39;00m \u001b[38;5;28mself\u001b[39m\u001b[38;5;241m.\u001b[39mverbose:\n\u001b[1;32m     46\u001b[0m     \u001b[38;5;28mprint\u001b[39m(clsPara)\n",
      "File \u001b[0;32m~/project/spatial/Hidden_Markov_Random_Field/src/Graph.py:127\u001b[0m, in \u001b[0;36mSingleGeneGraph._icmem\u001b[0;34m(self, labelList, beta, cls, clsPara, exp, graph, icm_iter, max_iter, convengency_threshold)\u001b[0m\n\u001b[1;32m    125\u001b[0m \u001b[38;5;28;01mfor\u001b[39;00m i \u001b[38;5;129;01min\u001b[39;00m temp_order:\n\u001b[1;32m    126\u001b[0m     newLabel \u001b[38;5;241m=\u001b[39m (labelList[i] \u001b[38;5;241m+\u001b[39m \u001b[38;5;241m1\u001b[39m) \u001b[38;5;241m%\u001b[39m clsNum\n\u001b[0;32m--> 127\u001b[0m     temp_delta \u001b[38;5;241m=\u001b[39m \u001b[38;5;28mself\u001b[39m\u001b[38;5;241m.\u001b[39m_delta_energy(\n\u001b[1;32m    128\u001b[0m         labelList, i, exp, graph, clsPara, newLabel, beta\n\u001b[1;32m    129\u001b[0m     )\n\u001b[1;32m    130\u001b[0m     \u001b[38;5;28;01mif\u001b[39;00m temp_delta \u001b[38;5;241m<\u001b[39m \u001b[38;5;241m0\u001b[39m:\n\u001b[1;32m    131\u001b[0m         labelList[i] \u001b[38;5;241m=\u001b[39m newLabel\n",
      "File \u001b[0;32m~/project/spatial/Hidden_Markov_Random_Field/src/Graph.py:176\u001b[0m, in \u001b[0;36mSingleGeneGraph._delta_energy\u001b[0;34m(self, labelList, index, exp, graph, clsPara, newLabel, beta)\u001b[0m\n\u001b[1;32m    168\u001b[0m sqrt_2_pi_newVar \u001b[38;5;241m=\u001b[39m np\u001b[38;5;241m.\u001b[39msqrt(\u001b[38;5;241m2\u001b[39m \u001b[38;5;241m*\u001b[39m np\u001b[38;5;241m.\u001b[39mpi \u001b[38;5;241m*\u001b[39m newVar)\n\u001b[1;32m    170\u001b[0m delta_energy_const \u001b[38;5;241m=\u001b[39m (\n\u001b[1;32m    171\u001b[0m     np\u001b[38;5;241m.\u001b[39mlog(sqrt_2_pi_newVar \u001b[38;5;241m/\u001b[39m sqrt_2_pi_var)\n\u001b[1;32m    172\u001b[0m     \u001b[38;5;241m+\u001b[39m ((exp[index] \u001b[38;5;241m-\u001b[39m newMean) \u001b[38;5;241m*\u001b[39m\u001b[38;5;241m*\u001b[39m \u001b[38;5;241m2\u001b[39m \u001b[38;5;241m/\u001b[39m (\u001b[38;5;241m2\u001b[39m \u001b[38;5;241m*\u001b[39m newVar))\n\u001b[1;32m    173\u001b[0m     \u001b[38;5;241m-\u001b[39m ((exp[index] \u001b[38;5;241m-\u001b[39m mean) \u001b[38;5;241m*\u001b[39m\u001b[38;5;241m*\u001b[39m \u001b[38;5;241m2\u001b[39m \u001b[38;5;241m/\u001b[39m (\u001b[38;5;241m2\u001b[39m \u001b[38;5;241m*\u001b[39m var))\n\u001b[1;32m    174\u001b[0m )\n\u001b[1;32m    175\u001b[0m delta_energy_neighbors \u001b[38;5;241m=\u001b[39m beta \u001b[38;5;241m*\u001b[39m np\u001b[38;5;241m.\u001b[39msum(\n\u001b[0;32m--> 176\u001b[0m     \u001b[38;5;28mself\u001b[39m\u001b[38;5;241m.\u001b[39m_difference(newLabel, labelList[neighborIndices])\n\u001b[1;32m    177\u001b[0m     \u001b[38;5;241m-\u001b[39m \u001b[38;5;28mself\u001b[39m\u001b[38;5;241m.\u001b[39m_difference(labelList[index], labelList[neighborIndices])\n\u001b[1;32m    178\u001b[0m )\n\u001b[1;32m    180\u001b[0m \u001b[38;5;28;01mreturn\u001b[39;00m delta_energy_const \u001b[38;5;241m+\u001b[39m delta_energy_neighbors\n",
      "\u001b[0;31mIndexError\u001b[0m: index 3636 is out of bounds for axis 0 with size 3636"
     ]
    }
   ],
   "source": [
    "geneGraph.mrf_with_icmem(beta = 2)"
   ]
  },
  {
   "cell_type": "code",
   "execution_count": 10,
   "metadata": {},
   "outputs": [
    {
     "data": {
      "text/plain": [
       "<3636x3636 sparse matrix of type '<class 'numpy.float64'>'\n",
       "\twith 14544 stored elements in Compressed Sparse Row format>"
      ]
     },
     "execution_count": 10,
     "metadata": {},
     "output_type": "execute_result"
    }
   ],
   "source": [
    "geneGraph.graph"
   ]
  },
  {
   "cell_type": "code",
   "execution_count": 11,
   "metadata": {},
   "outputs": [
    {
     "data": {
      "text/html": [
       "<div>\n",
       "<style scoped>\n",
       "    .dataframe tbody tr th:only-of-type {\n",
       "        vertical-align: middle;\n",
       "    }\n",
       "\n",
       "    .dataframe tbody tr th {\n",
       "        vertical-align: top;\n",
       "    }\n",
       "\n",
       "    .dataframe thead th {\n",
       "        text-align: right;\n",
       "    }\n",
       "</style>\n",
       "<table border=\"1\" class=\"dataframe\">\n",
       "  <thead>\n",
       "    <tr style=\"text-align: right;\">\n",
       "      <th></th>\n",
       "      <th>IGKC</th>\n",
       "      <th>AC012360.3</th>\n",
       "      <th>MOBP</th>\n",
       "      <th>TMEM158</th>\n",
       "      <th>TF</th>\n",
       "      <th>CPB1</th>\n",
       "      <th>TMEM144</th>\n",
       "      <th>BACH2</th>\n",
       "      <th>NPY</th>\n",
       "      <th>MYO1G</th>\n",
       "      <th>...</th>\n",
       "      <th>IGHM</th>\n",
       "      <th>HBA2</th>\n",
       "      <th>HBA1</th>\n",
       "      <th>CNP</th>\n",
       "      <th>MYL9</th>\n",
       "      <th>PCSK4</th>\n",
       "      <th>PRR19</th>\n",
       "      <th>IGLC2</th>\n",
       "      <th>CR381653.1</th>\n",
       "      <th>LRRC3</th>\n",
       "    </tr>\n",
       "  </thead>\n",
       "  <tbody>\n",
       "    <tr>\n",
       "      <th>AAACAAGTATCTCCCA-1</th>\n",
       "      <td>1.168548</td>\n",
       "      <td>-0.077593</td>\n",
       "      <td>-0.033543</td>\n",
       "      <td>-0.403004</td>\n",
       "      <td>-0.913560</td>\n",
       "      <td>-0.306615</td>\n",
       "      <td>-0.552796</td>\n",
       "      <td>-0.103783</td>\n",
       "      <td>-0.567012</td>\n",
       "      <td>-0.080026</td>\n",
       "      <td>...</td>\n",
       "      <td>-0.25909</td>\n",
       "      <td>0.433790</td>\n",
       "      <td>-0.439749</td>\n",
       "      <td>-0.624686</td>\n",
       "      <td>-0.362863</td>\n",
       "      <td>-0.119038</td>\n",
       "      <td>-0.099579</td>\n",
       "      <td>-0.431536</td>\n",
       "      <td>-0.02837</td>\n",
       "      <td>-0.044405</td>\n",
       "    </tr>\n",
       "    <tr>\n",
       "      <th>AAACAATCTACTAGCA-1</th>\n",
       "      <td>-0.668048</td>\n",
       "      <td>-0.077593</td>\n",
       "      <td>-0.779179</td>\n",
       "      <td>-0.403004</td>\n",
       "      <td>-0.913560</td>\n",
       "      <td>-0.306615</td>\n",
       "      <td>-0.552796</td>\n",
       "      <td>-0.103783</td>\n",
       "      <td>-0.567012</td>\n",
       "      <td>-0.080026</td>\n",
       "      <td>...</td>\n",
       "      <td>-0.25909</td>\n",
       "      <td>1.930715</td>\n",
       "      <td>-0.439749</td>\n",
       "      <td>0.363277</td>\n",
       "      <td>4.914625</td>\n",
       "      <td>-0.119038</td>\n",
       "      <td>-0.099579</td>\n",
       "      <td>-0.431536</td>\n",
       "      <td>-0.02837</td>\n",
       "      <td>-0.044405</td>\n",
       "    </tr>\n",
       "    <tr>\n",
       "      <th>AAACACCAATAACTGC-1</th>\n",
       "      <td>0.695366</td>\n",
       "      <td>-0.077593</td>\n",
       "      <td>2.062531</td>\n",
       "      <td>-0.403004</td>\n",
       "      <td>1.464825</td>\n",
       "      <td>-0.306615</td>\n",
       "      <td>1.204486</td>\n",
       "      <td>-0.103783</td>\n",
       "      <td>-0.567012</td>\n",
       "      <td>-0.080026</td>\n",
       "      <td>...</td>\n",
       "      <td>-0.25909</td>\n",
       "      <td>2.248626</td>\n",
       "      <td>-0.439749</td>\n",
       "      <td>1.858433</td>\n",
       "      <td>-0.362863</td>\n",
       "      <td>-0.119038</td>\n",
       "      <td>-0.099579</td>\n",
       "      <td>-0.431536</td>\n",
       "      <td>-0.02837</td>\n",
       "      <td>-0.044405</td>\n",
       "    </tr>\n",
       "    <tr>\n",
       "      <th>AAACAGAGCGACTCCT-1</th>\n",
       "      <td>-0.668048</td>\n",
       "      <td>-0.077593</td>\n",
       "      <td>0.695679</td>\n",
       "      <td>1.959511</td>\n",
       "      <td>0.020708</td>\n",
       "      <td>-0.306615</td>\n",
       "      <td>-0.552796</td>\n",
       "      <td>-0.103783</td>\n",
       "      <td>0.841627</td>\n",
       "      <td>-0.080026</td>\n",
       "      <td>...</td>\n",
       "      <td>-0.25909</td>\n",
       "      <td>0.772610</td>\n",
       "      <td>-0.439749</td>\n",
       "      <td>-1.286461</td>\n",
       "      <td>1.785889</td>\n",
       "      <td>-0.119038</td>\n",
       "      <td>-0.099579</td>\n",
       "      <td>1.159950</td>\n",
       "      <td>-0.02837</td>\n",
       "      <td>-0.044405</td>\n",
       "    </tr>\n",
       "    <tr>\n",
       "      <th>AAACAGCTTTCAGAAG-1</th>\n",
       "      <td>2.468108</td>\n",
       "      <td>-0.077593</td>\n",
       "      <td>0.372512</td>\n",
       "      <td>-0.403004</td>\n",
       "      <td>0.948639</td>\n",
       "      <td>-0.306615</td>\n",
       "      <td>-0.552796</td>\n",
       "      <td>-0.103783</td>\n",
       "      <td>-0.567012</td>\n",
       "      <td>-0.080026</td>\n",
       "      <td>...</td>\n",
       "      <td>-0.25909</td>\n",
       "      <td>-0.568908</td>\n",
       "      <td>-0.439749</td>\n",
       "      <td>0.478324</td>\n",
       "      <td>-0.362863</td>\n",
       "      <td>-0.119038</td>\n",
       "      <td>-0.099579</td>\n",
       "      <td>-0.431536</td>\n",
       "      <td>-0.02837</td>\n",
       "      <td>-0.044405</td>\n",
       "    </tr>\n",
       "    <tr>\n",
       "      <th>...</th>\n",
       "      <td>...</td>\n",
       "      <td>...</td>\n",
       "      <td>...</td>\n",
       "      <td>...</td>\n",
       "      <td>...</td>\n",
       "      <td>...</td>\n",
       "      <td>...</td>\n",
       "      <td>...</td>\n",
       "      <td>...</td>\n",
       "      <td>...</td>\n",
       "      <td>...</td>\n",
       "      <td>...</td>\n",
       "      <td>...</td>\n",
       "      <td>...</td>\n",
       "      <td>...</td>\n",
       "      <td>...</td>\n",
       "      <td>...</td>\n",
       "      <td>...</td>\n",
       "      <td>...</td>\n",
       "      <td>...</td>\n",
       "      <td>...</td>\n",
       "    </tr>\n",
       "    <tr>\n",
       "      <th>TTGTTTCACATCCAGG-1</th>\n",
       "      <td>-0.668048</td>\n",
       "      <td>-0.077593</td>\n",
       "      <td>1.199912</td>\n",
       "      <td>-0.403004</td>\n",
       "      <td>2.578630</td>\n",
       "      <td>-0.306615</td>\n",
       "      <td>3.107885</td>\n",
       "      <td>-0.103783</td>\n",
       "      <td>-0.567012</td>\n",
       "      <td>-0.080026</td>\n",
       "      <td>...</td>\n",
       "      <td>-0.25909</td>\n",
       "      <td>-0.568908</td>\n",
       "      <td>-0.439749</td>\n",
       "      <td>2.495847</td>\n",
       "      <td>-0.362863</td>\n",
       "      <td>-0.119038</td>\n",
       "      <td>-0.099579</td>\n",
       "      <td>-0.431536</td>\n",
       "      <td>-0.02837</td>\n",
       "      <td>-0.044405</td>\n",
       "    </tr>\n",
       "    <tr>\n",
       "      <th>TTGTTTCATTAGTCTA-1</th>\n",
       "      <td>2.214524</td>\n",
       "      <td>-0.077593</td>\n",
       "      <td>1.583931</td>\n",
       "      <td>-0.403004</td>\n",
       "      <td>1.881171</td>\n",
       "      <td>-0.306615</td>\n",
       "      <td>1.522866</td>\n",
       "      <td>-0.103783</td>\n",
       "      <td>-0.567012</td>\n",
       "      <td>-0.080026</td>\n",
       "      <td>...</td>\n",
       "      <td>-0.25909</td>\n",
       "      <td>2.141036</td>\n",
       "      <td>3.270130</td>\n",
       "      <td>2.058886</td>\n",
       "      <td>-0.362863</td>\n",
       "      <td>-0.119038</td>\n",
       "      <td>-0.099579</td>\n",
       "      <td>-0.431536</td>\n",
       "      <td>-0.02837</td>\n",
       "      <td>-0.044405</td>\n",
       "    </tr>\n",
       "    <tr>\n",
       "      <th>TTGTTTCCATACAACT-1</th>\n",
       "      <td>-0.668048</td>\n",
       "      <td>-0.077593</td>\n",
       "      <td>0.815200</td>\n",
       "      <td>-0.403004</td>\n",
       "      <td>1.683571</td>\n",
       "      <td>-0.306615</td>\n",
       "      <td>-0.552796</td>\n",
       "      <td>-0.103783</td>\n",
       "      <td>-0.567012</td>\n",
       "      <td>-0.080026</td>\n",
       "      <td>...</td>\n",
       "      <td>-0.25909</td>\n",
       "      <td>-0.568908</td>\n",
       "      <td>-0.439749</td>\n",
       "      <td>0.128602</td>\n",
       "      <td>-0.362863</td>\n",
       "      <td>-0.119038</td>\n",
       "      <td>-0.099579</td>\n",
       "      <td>-0.431536</td>\n",
       "      <td>-0.02837</td>\n",
       "      <td>-0.044405</td>\n",
       "    </tr>\n",
       "    <tr>\n",
       "      <th>TTGTTTGTATTACACG-1</th>\n",
       "      <td>-0.668048</td>\n",
       "      <td>-0.077593</td>\n",
       "      <td>0.812867</td>\n",
       "      <td>-0.403004</td>\n",
       "      <td>0.577428</td>\n",
       "      <td>-0.306615</td>\n",
       "      <td>-0.552796</td>\n",
       "      <td>-0.103783</td>\n",
       "      <td>-0.567012</td>\n",
       "      <td>-0.080026</td>\n",
       "      <td>...</td>\n",
       "      <td>-0.25909</td>\n",
       "      <td>-0.568908</td>\n",
       "      <td>-0.439749</td>\n",
       "      <td>0.630110</td>\n",
       "      <td>-0.362863</td>\n",
       "      <td>-0.119038</td>\n",
       "      <td>-0.099579</td>\n",
       "      <td>-0.431536</td>\n",
       "      <td>-0.02837</td>\n",
       "      <td>-0.044405</td>\n",
       "    </tr>\n",
       "    <tr>\n",
       "      <th>TTGTTTGTGTAAATTC-1</th>\n",
       "      <td>-0.668048</td>\n",
       "      <td>-0.077593</td>\n",
       "      <td>-0.779179</td>\n",
       "      <td>-0.403004</td>\n",
       "      <td>-0.061410</td>\n",
       "      <td>-0.306615</td>\n",
       "      <td>-0.552796</td>\n",
       "      <td>-0.103783</td>\n",
       "      <td>-0.567012</td>\n",
       "      <td>-0.080026</td>\n",
       "      <td>...</td>\n",
       "      <td>-0.25909</td>\n",
       "      <td>-0.568908</td>\n",
       "      <td>-0.439749</td>\n",
       "      <td>-0.478889</td>\n",
       "      <td>-0.362863</td>\n",
       "      <td>-0.119038</td>\n",
       "      <td>-0.099579</td>\n",
       "      <td>1.020065</td>\n",
       "      <td>-0.02837</td>\n",
       "      <td>-0.044405</td>\n",
       "    </tr>\n",
       "  </tbody>\n",
       "</table>\n",
       "<p>3636 rows × 30 columns</p>\n",
       "</div>"
      ],
      "text/plain": [
       "                        IGKC  AC012360.3      MOBP   TMEM158        TF  \\\n",
       "AAACAAGTATCTCCCA-1  1.168548   -0.077593 -0.033543 -0.403004 -0.913560   \n",
       "AAACAATCTACTAGCA-1 -0.668048   -0.077593 -0.779179 -0.403004 -0.913560   \n",
       "AAACACCAATAACTGC-1  0.695366   -0.077593  2.062531 -0.403004  1.464825   \n",
       "AAACAGAGCGACTCCT-1 -0.668048   -0.077593  0.695679  1.959511  0.020708   \n",
       "AAACAGCTTTCAGAAG-1  2.468108   -0.077593  0.372512 -0.403004  0.948639   \n",
       "...                      ...         ...       ...       ...       ...   \n",
       "TTGTTTCACATCCAGG-1 -0.668048   -0.077593  1.199912 -0.403004  2.578630   \n",
       "TTGTTTCATTAGTCTA-1  2.214524   -0.077593  1.583931 -0.403004  1.881171   \n",
       "TTGTTTCCATACAACT-1 -0.668048   -0.077593  0.815200 -0.403004  1.683571   \n",
       "TTGTTTGTATTACACG-1 -0.668048   -0.077593  0.812867 -0.403004  0.577428   \n",
       "TTGTTTGTGTAAATTC-1 -0.668048   -0.077593 -0.779179 -0.403004 -0.061410   \n",
       "\n",
       "                        CPB1   TMEM144     BACH2       NPY     MYO1G  ...  \\\n",
       "AAACAAGTATCTCCCA-1 -0.306615 -0.552796 -0.103783 -0.567012 -0.080026  ...   \n",
       "AAACAATCTACTAGCA-1 -0.306615 -0.552796 -0.103783 -0.567012 -0.080026  ...   \n",
       "AAACACCAATAACTGC-1 -0.306615  1.204486 -0.103783 -0.567012 -0.080026  ...   \n",
       "AAACAGAGCGACTCCT-1 -0.306615 -0.552796 -0.103783  0.841627 -0.080026  ...   \n",
       "AAACAGCTTTCAGAAG-1 -0.306615 -0.552796 -0.103783 -0.567012 -0.080026  ...   \n",
       "...                      ...       ...       ...       ...       ...  ...   \n",
       "TTGTTTCACATCCAGG-1 -0.306615  3.107885 -0.103783 -0.567012 -0.080026  ...   \n",
       "TTGTTTCATTAGTCTA-1 -0.306615  1.522866 -0.103783 -0.567012 -0.080026  ...   \n",
       "TTGTTTCCATACAACT-1 -0.306615 -0.552796 -0.103783 -0.567012 -0.080026  ...   \n",
       "TTGTTTGTATTACACG-1 -0.306615 -0.552796 -0.103783 -0.567012 -0.080026  ...   \n",
       "TTGTTTGTGTAAATTC-1 -0.306615 -0.552796 -0.103783 -0.567012 -0.080026  ...   \n",
       "\n",
       "                       IGHM      HBA2      HBA1       CNP      MYL9     PCSK4  \\\n",
       "AAACAAGTATCTCCCA-1 -0.25909  0.433790 -0.439749 -0.624686 -0.362863 -0.119038   \n",
       "AAACAATCTACTAGCA-1 -0.25909  1.930715 -0.439749  0.363277  4.914625 -0.119038   \n",
       "AAACACCAATAACTGC-1 -0.25909  2.248626 -0.439749  1.858433 -0.362863 -0.119038   \n",
       "AAACAGAGCGACTCCT-1 -0.25909  0.772610 -0.439749 -1.286461  1.785889 -0.119038   \n",
       "AAACAGCTTTCAGAAG-1 -0.25909 -0.568908 -0.439749  0.478324 -0.362863 -0.119038   \n",
       "...                     ...       ...       ...       ...       ...       ...   \n",
       "TTGTTTCACATCCAGG-1 -0.25909 -0.568908 -0.439749  2.495847 -0.362863 -0.119038   \n",
       "TTGTTTCATTAGTCTA-1 -0.25909  2.141036  3.270130  2.058886 -0.362863 -0.119038   \n",
       "TTGTTTCCATACAACT-1 -0.25909 -0.568908 -0.439749  0.128602 -0.362863 -0.119038   \n",
       "TTGTTTGTATTACACG-1 -0.25909 -0.568908 -0.439749  0.630110 -0.362863 -0.119038   \n",
       "TTGTTTGTGTAAATTC-1 -0.25909 -0.568908 -0.439749 -0.478889 -0.362863 -0.119038   \n",
       "\n",
       "                       PRR19     IGLC2  CR381653.1     LRRC3  \n",
       "AAACAAGTATCTCCCA-1 -0.099579 -0.431536    -0.02837 -0.044405  \n",
       "AAACAATCTACTAGCA-1 -0.099579 -0.431536    -0.02837 -0.044405  \n",
       "AAACACCAATAACTGC-1 -0.099579 -0.431536    -0.02837 -0.044405  \n",
       "AAACAGAGCGACTCCT-1 -0.099579  1.159950    -0.02837 -0.044405  \n",
       "AAACAGCTTTCAGAAG-1 -0.099579 -0.431536    -0.02837 -0.044405  \n",
       "...                      ...       ...         ...       ...  \n",
       "TTGTTTCACATCCAGG-1 -0.099579 -0.431536    -0.02837 -0.044405  \n",
       "TTGTTTCATTAGTCTA-1 -0.099579 -0.431536    -0.02837 -0.044405  \n",
       "TTGTTTCCATACAACT-1 -0.099579 -0.431536    -0.02837 -0.044405  \n",
       "TTGTTTGTATTACACG-1 -0.099579 -0.431536    -0.02837 -0.044405  \n",
       "TTGTTTGTGTAAATTC-1 -0.099579  1.020065    -0.02837 -0.044405  \n",
       "\n",
       "[3636 rows x 30 columns]"
      ]
     },
     "execution_count": 11,
     "metadata": {},
     "output_type": "execute_result"
    }
   ],
   "source": [
    "exp "
   ]
  },
  {
   "cell_type": "code",
   "execution_count": null,
   "metadata": {},
   "outputs": [],
   "source": []
  }
 ],
 "metadata": {
  "kernelspec": {
   "display_name": "sc",
   "language": "python",
   "name": "python3"
  },
  "language_info": {
   "codemirror_mode": {
    "name": "ipython",
    "version": 3
   },
   "file_extension": ".py",
   "mimetype": "text/x-python",
   "name": "python",
   "nbconvert_exporter": "python",
   "pygments_lexer": "ipython3",
   "version": "3.11.5"
  }
 },
 "nbformat": 4,
 "nbformat_minor": 2
}

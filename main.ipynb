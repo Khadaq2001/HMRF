{
 "cells": [
  {
   "cell_type": "code",
   "execution_count": 4,
   "metadata": {
    "execution": {
     "iopub.execute_input": "2023-11-06T06:16:22.839051Z",
     "iopub.status.busy": "2023-11-06T06:16:22.838752Z",
     "iopub.status.idle": "2023-11-06T06:16:24.247951Z",
     "shell.execute_reply": "2023-11-06T06:16:24.247116Z"
    }
   },
   "outputs": [],
   "source": [
    "import numpy as np\n",
    "import pandas as pd \n",
    "import scanpy as sc\n",
    "from sklearn import mixture\n",
    "import os \n",
    "import imp\n",
    "from src import *"
   ]
  },
  {
   "cell_type": "code",
   "execution_count": null,
   "metadata": {
    "execution": {
     "iopub.execute_input": "2023-11-06T06:16:24.279956Z",
     "iopub.status.busy": "2023-11-06T06:16:24.279401Z",
     "iopub.status.idle": "2023-11-06T06:16:24.286026Z",
     "shell.execute_reply": "2023-11-06T06:16:24.285545Z"
    }
   },
   "outputs": [],
   "source": [
    "imp.reload(src)"
   ]
  },
  {
   "cell_type": "code",
   "execution_count": 2,
   "metadata": {
    "execution": {
     "iopub.execute_input": "2023-11-06T06:16:24.287941Z",
     "iopub.status.busy": "2023-11-06T06:16:24.287656Z",
     "iopub.status.idle": "2023-11-06T06:16:24.327966Z",
     "shell.execute_reply": "2023-11-06T06:16:24.327408Z"
    }
   },
   "outputs": [],
   "source": [
    "import matplotlib.pyplot as plt\n",
    "plt.rc('figure', figsize=(8,8))\n",
    "import seaborn as sns"
   ]
  },
  {
   "cell_type": "code",
   "execution_count": 5,
   "metadata": {
    "execution": {
     "iopub.execute_input": "2023-11-06T06:16:24.330055Z",
     "iopub.status.busy": "2023-11-06T06:16:24.329852Z",
     "iopub.status.idle": "2023-11-06T06:16:25.824108Z",
     "shell.execute_reply": "2023-11-06T06:16:25.823364Z"
    }
   },
   "outputs": [
    {
     "name": "stderr",
     "output_type": "stream",
     "text": [
      "/home/qinxianhan/.conda/envs/sc/lib/python3.11/site-packages/anndata/_core/anndata.py:1899: UserWarning: Variable names are not unique. To make them unique, call `.var_names_make_unique`.\n",
      "  utils.warn_names_duplicates(\"var\")\n",
      "/home/qinxianhan/.conda/envs/sc/lib/python3.11/site-packages/anndata/_core/anndata.py:1899: UserWarning: Variable names are not unique. To make them unique, call `.var_names_make_unique`.\n",
      "  utils.warn_names_duplicates(\"var\")\n"
     ]
    }
   ],
   "source": [
    "adata = sc.read_visium('../dataset/goldStandard')\n",
    "adata.var_names_make_unique()\n",
    "adata = data_preprocess(adata)"
   ]
  },
  {
   "cell_type": "code",
   "execution_count": 6,
   "metadata": {
    "execution": {
     "iopub.execute_input": "2023-11-06T06:16:25.831784Z",
     "iopub.status.busy": "2023-11-06T06:16:25.831328Z",
     "iopub.status.idle": "2023-11-06T06:16:25.834437Z",
     "shell.execute_reply": "2023-11-06T06:16:25.833913Z"
    }
   },
   "outputs": [],
   "source": [
    "gmm = mixture.GaussianMixture(n_components=2)\n",
    "coord = np.array(adata.obs.iloc[:,1:3])\n",
    "target_list =['CAMK2N1', 'PCP4', 'NEFM', 'NEFH', 'B3GALT2']\n",
    "target_gene =target_list[1]"
   ]
  },
  {
   "cell_type": "code",
   "execution_count": null,
   "metadata": {
    "execution": {
     "iopub.execute_input": "2023-11-06T06:16:25.836216Z",
     "iopub.status.busy": "2023-11-06T06:16:25.835751Z",
     "iopub.status.idle": "2023-11-06T06:16:26.947765Z",
     "shell.execute_reply": "2023-11-06T06:16:26.946924Z"
    }
   },
   "outputs": [],
   "source": [
    "beta =5\n",
    "labels_list= mrf.mrf_process(adata, gene_id=target_gene, beta = beta,max_iteration=5e4)"
   ]
  },
  {
   "cell_type": "code",
   "execution_count": 7,
   "metadata": {
    "execution": {
     "iopub.execute_input": "2023-11-06T06:16:26.949960Z",
     "iopub.status.busy": "2023-11-06T06:16:26.949638Z",
     "iopub.status.idle": "2023-11-06T06:16:39.259807Z",
     "shell.execute_reply": "2023-11-06T06:16:39.259062Z"
    }
   },
   "outputs": [
    {
     "name": "stderr",
     "output_type": "stream",
     "text": [
      "100%|██████████| 10/10 [00:02<00:00,  4.14it/s]"
     ]
    },
    {
     "name": "stdout",
     "output_type": "stream",
     "text": [
      "[[-8.70590508e-01  1.00000000e-05]\n",
      " [ 9.53788610e-01  3.54916776e-01]]\n"
     ]
    },
    {
     "name": "stderr",
     "output_type": "stream",
     "text": [
      "\n"
     ]
    }
   ],
   "source": [
    "beta = 3\n",
    "labels_list_new= mrf.mrf_with_icmem(adata, gene_id = target_gene, beta = beta, max_iter = 10)"
   ]
  },
  {
   "cell_type": "code",
   "execution_count": 8,
   "metadata": {
    "execution": {
     "iopub.execute_input": "2023-11-06T06:16:39.262016Z",
     "iopub.status.busy": "2023-11-06T06:16:39.261853Z",
     "iopub.status.idle": "2023-11-06T06:16:39.281491Z",
     "shell.execute_reply": "2023-11-06T06:16:39.281071Z"
    }
   },
   "outputs": [],
   "source": [
    "exp = adata[:,target_gene].X.toarray()\n",
    "gmm = mixture.GaussianMixture(n_components=2)\n",
    "gmm.fit(exp)\n",
    "gmm_labels = gmm.predict(exp)\n",
    "gmm_labels = label_resort(gmm.means_, gmm_labels)"
   ]
  },
  {
   "cell_type": "code",
   "execution_count": 9,
   "metadata": {
    "execution": {
     "iopub.execute_input": "2023-11-06T06:16:39.284194Z",
     "iopub.status.busy": "2023-11-06T06:16:39.283879Z",
     "iopub.status.idle": "2023-11-06T06:16:39.287743Z",
     "shell.execute_reply": "2023-11-06T06:16:39.287373Z"
    }
   },
   "outputs": [
    {
     "data": {
      "text/plain": [
       "(array([-0.87059051,  0.95385807]), array([1.00000000e-06, 3.54804567e-01]))"
      ]
     },
     "execution_count": 9,
     "metadata": {},
     "output_type": "execute_result"
    }
   ],
   "source": [
    "gmm.means_.reshape(-1), gmm.covariances_.reshape(-1)"
   ]
  },
  {
   "cell_type": "code",
   "execution_count": null,
   "metadata": {
    "execution": {
     "iopub.execute_input": "2023-11-06T06:16:39.292841Z",
     "iopub.status.busy": "2023-11-06T06:16:39.292528Z",
     "iopub.status.idle": "2023-11-06T06:16:41.864125Z",
     "shell.execute_reply": "2023-11-06T06:16:41.863562Z"
    }
   },
   "outputs": [],
   "source": [
    "adata.obs['old_labels'] = gmm_labels\n",
    "adata.obs['new_labels'] = labels_list_new\n",
    "sc.pl.spatial(adata, color=[target_gene,'old_labels','new_labels'])"
   ]
  },
  {
   "cell_type": "code",
   "execution_count": 10,
   "metadata": {},
   "outputs": [
    {
     "data": {
      "text/plain": [
       "numpy.ndarray"
      ]
     },
     "execution_count": 10,
     "metadata": {},
     "output_type": "execute_result"
    }
   ],
   "source": [
    "type(labels_list_new)"
   ]
  },
  {
   "cell_type": "code",
   "execution_count": 15,
   "metadata": {},
   "outputs": [],
   "source": [
    "np.savetxt('temp/test_labels.csv', labels_list_new, delimiter=',', fmt = '%d')\n",
    "np.savetxt('temp/test_data.csv',exp, delimiter=',', fmt = '%.4f' )"
   ]
  },
  {
   "cell_type": "code",
   "execution_count": null,
   "metadata": {},
   "outputs": [],
   "source": []
  }
 ],
 "metadata": {
  "kernelspec": {
   "display_name": "Python 3 (ipykernel)",
   "language": "python",
   "name": "python3"
  },
  "language_info": {
   "codemirror_mode": {
    "name": "ipython",
    "version": 3
   },
   "file_extension": ".py",
   "mimetype": "text/x-python",
   "name": "python",
   "nbconvert_exporter": "python",
   "pygments_lexer": "ipython3",
   "version": "3.11.5"
  }
 },
 "nbformat": 4,
 "nbformat_minor": 4
}
